{
  "nbformat": 4,
  "nbformat_minor": 0,
  "metadata": {
    "kernelspec": {
      "display_name": "Python 3",
      "language": "python",
      "name": "python3"
    },
    "language_info": {
      "codemirror_mode": {
        "name": "ipython",
        "version": 3
      },
      "file_extension": ".py",
      "mimetype": "text/x-python",
      "name": "python",
      "nbconvert_exporter": "python",
      "pygments_lexer": "ipython3",
      "version": "3.7.8"
    },
    "colab": {
      "name": "Colab SSH.ipynb",
      "provenance": [],
      "include_colab_link": true
    }
  },
  "cells": [
    {
      "cell_type": "markdown",
      "metadata": {
        "id": "view-in-github",
        "colab_type": "text"
      },
      "source": [
        "<a href=\"https://colab.research.google.com/github/mrfoxie/colab/blob/master/Colab%20SSH.ipynb\" target=\"_parent\"><img src=\"https://colab.research.google.com/assets/colab-badge.svg\" alt=\"Open In Colab\"/></a>"
      ]
    },
    {
      "cell_type": "markdown",
      "metadata": {
        "id": "Z-_Vo9o428UH",
        "colab_type": "text"
      },
      "source": [
        "# **Colab SSH** : SSH to Colab Instance\n",
        "\n",
        "There are Two methods of doing same thing :\n",
        " - Using colab_ssh pip library\n",
        " - Manually configuring SSHD\n",
        "\n",
        "Run command on your Local Computer to connect using SSH\n",
        "\n",
        "    ssh root@0.tcp.ngrok.io -p <givenport>\n",
        "\n",
        "And then enter the password\n",
        "\n",
        "<br>\n",
        "\n",
        "> **Warning :** This notebook is against the Policy of Colab. Use it on your own risk\n",
        "\n"
      ]
    },
    {
      "cell_type": "markdown",
      "metadata": {
        "id": "VyYf8fOo6LGp",
        "colab_type": "text"
      },
      "source": [
        "# Using **colab_ssh** Library"
      ]
    },
    {
      "cell_type": "markdown",
      "metadata": {
        "id": "L4AGsvo97PVc",
        "colab_type": "text"
      },
      "source": [
        "### Installing colab_ssh Library"
      ]
    },
    {
      "cell_type": "code",
      "metadata": {
        "id": "OAFAZOlU6KKV",
        "colab_type": "code",
        "colab": {}
      },
      "source": [
        "!pip install colab_ssh --upgrade"
      ],
      "execution_count": null,
      "outputs": []
    },
    {
      "cell_type": "markdown",
      "metadata": {
        "id": "zsw-msLG7Yhs",
        "colab_type": "text"
      },
      "source": [
        "### Generate Root Password\n"
      ]
    },
    {
      "cell_type": "code",
      "metadata": {
        "id": "K8B6Plr87kZw",
        "colab_type": "code",
        "colab": {}
      },
      "source": [
        "import random, string\n",
        "password = ''.join(random.choice(string.ascii_letters + string.digits) for i in range(20))"
      ],
      "execution_count": null,
      "outputs": []
    },
    {
      "cell_type": "markdown",
      "metadata": {
        "id": "hSnx1dd5_BYS",
        "colab_type": "text"
      },
      "source": [
        "### Request ngrok Token"
      ]
    },
    {
      "cell_type": "code",
      "metadata": {
        "id": "gPqTu-IS_AvN",
        "colab_type": "code",
        "colab": {}
      },
      "source": [
        "print(\"Copy authtoken from https://dashboard.ngrok.com/auth\")\n",
        "ngrokToken = input(\"Enter Token : \")"
      ],
      "execution_count": null,
      "outputs": []
    },
    {
      "cell_type": "markdown",
      "metadata": {
        "id": "Jx7oCRb676lc",
        "colab_type": "text"
      },
      "source": [
        "### Launch SSH"
      ]
    },
    {
      "cell_type": "code",
      "metadata": {
        "id": "5Zc67iMO8Hgs",
        "colab_type": "code",
        "colab": {}
      },
      "source": [
        "from colab_ssh import launch_ssh, init_git\n",
        "launch_ssh(ngrokToken, password)"
      ],
      "execution_count": null,
      "outputs": []
    },
    {
      "cell_type": "markdown",
      "metadata": {
        "id": "GfcRwLYm8IL4",
        "colab_type": "text"
      },
      "source": [
        "### Print Details"
      ]
    },
    {
      "cell_type": "code",
      "metadata": {
        "id": "6gioBfZy8KCl",
        "colab_type": "code",
        "colab": {}
      },
      "source": [
        "# Get Public Address\n",
        "print(\"Run command : ssh root@\", end='')\n",
        "!curl -s http://localhost:4040/api/tunnels | python3 -c \\\n",
        "    \"import sys, json; print(json.load(sys.stdin)['tunnels'][0]['public_url'][6:].replace(':', ' -p '))\"\n",
        "\n",
        "# Print Password\n",
        "print(\"Password : \", password)"
      ],
      "execution_count": null,
      "outputs": []
    },
    {
      "cell_type": "markdown",
      "metadata": {
        "id": "FjpxOlJL-Xrr",
        "colab_type": "text"
      },
      "source": [
        "# Manually configuring SSHD"
      ]
    },
    {
      "cell_type": "markdown",
      "metadata": {
        "id": "DTnTu2ky28UI",
        "colab_type": "text"
      },
      "source": [
        "### Generate root password\n"
      ]
    },
    {
      "cell_type": "code",
      "metadata": {
        "id": "jivmK9d028UJ",
        "colab_type": "code",
        "colab": {}
      },
      "source": [
        "import random, string\n",
        "password = ''.join(random.choice(string.ascii_letters + string.digits) for i in range(20))"
      ],
      "execution_count": null,
      "outputs": []
    },
    {
      "cell_type": "markdown",
      "metadata": {
        "id": "OxCSsS_j28UN",
        "colab_type": "text"
      },
      "source": [
        "### Download ngrok"
      ]
    },
    {
      "cell_type": "code",
      "metadata": {
        "id": "pSW5voxl28UN",
        "colab_type": "code",
        "colab": {}
      },
      "source": [
        "!wget -q -c -nc https://bin.equinox.io/c/4VmDzA7iaHb/ngrok-stable-linux-amd64.zip\n",
        "!unzip -qq -n ngrok-stable-linux-amd64.zip"
      ],
      "execution_count": null,
      "outputs": []
    },
    {
      "cell_type": "markdown",
      "metadata": {
        "id": "I1tVUKhV28UR",
        "colab_type": "text"
      },
      "source": [
        "### Setup sshd"
      ]
    },
    {
      "cell_type": "code",
      "metadata": {
        "id": "ZcGXSbv528UR",
        "colab_type": "code",
        "colab": {}
      },
      "source": [
        "!apt-get install -qq -o=Dpkg::Use-Pty=0 openssh-server pwgen > /dev/null"
      ],
      "execution_count": null,
      "outputs": []
    },
    {
      "cell_type": "markdown",
      "metadata": {
        "id": "rLCNj9lV28UU",
        "colab_type": "text"
      },
      "source": [
        "### Set root password"
      ]
    },
    {
      "cell_type": "code",
      "metadata": {
        "id": "vko03dad28UV",
        "colab_type": "code",
        "colab": {}
      },
      "source": [
        "! echo root:$password | chpasswd\n",
        "! mkdir -p /var/run/sshd\n",
        "! echo \"PermitRootLogin yes\" >> /etc/ssh/sshd_config\n",
        "! echo \"PasswordAuthentication yes\" >> /etc/ssh/sshd_config\n",
        "! echo \"LD_LIBRARY_PATH=/usr/lib64-nvidia\" >> /root/.bashrc\n",
        "! echo \"export LD_LIBRARY_PATH\" >> /root/.bashrc"
      ],
      "execution_count": null,
      "outputs": []
    },
    {
      "cell_type": "markdown",
      "metadata": {
        "id": "PKAaQCwc28UY",
        "colab_type": "text"
      },
      "source": [
        "### Run sshd"
      ]
    },
    {
      "cell_type": "code",
      "metadata": {
        "id": "T6jXV1Ug28UZ",
        "colab_type": "code",
        "colab": {}
      },
      "source": [
        "get_ipython().system_raw('/usr/sbin/sshd -D &')"
      ],
      "execution_count": null,
      "outputs": []
    },
    {
      "cell_type": "markdown",
      "metadata": {
        "id": "xZElk38D28Uc",
        "colab_type": "text"
      },
      "source": [
        "### Ask token"
      ]
    },
    {
      "cell_type": "code",
      "metadata": {
        "id": "L6DxzZoe28Uc",
        "colab_type": "code",
        "colab": {}
      },
      "source": [
        "print(\"Copy authtoken from https://dashboard.ngrok.com/auth\")\n",
        "import getpass\n",
        "authtoken = getpass.getpass()"
      ],
      "execution_count": null,
      "outputs": []
    },
    {
      "cell_type": "markdown",
      "metadata": {
        "id": "eh64uSgQ28Uf",
        "colab_type": "text"
      },
      "source": [
        "### Create tunnel"
      ]
    },
    {
      "cell_type": "code",
      "metadata": {
        "id": "KIc_EJdG28Ug",
        "colab_type": "code",
        "colab": {}
      },
      "source": [
        "get_ipython().system_raw('./ngrok authtoken $authtoken && ./ngrok tcp 22 &')"
      ],
      "execution_count": null,
      "outputs": []
    },
    {
      "cell_type": "markdown",
      "metadata": {
        "id": "jkzR6frO28Uj",
        "colab_type": "text"
      },
      "source": [
        "### Print root password"
      ]
    },
    {
      "cell_type": "code",
      "metadata": {
        "id": "-ckyr9C528Uj",
        "colab_type": "code",
        "colab": {}
      },
      "source": [
        "print(\"Root password: {}\".format(password))"
      ],
      "execution_count": null,
      "outputs": []
    },
    {
      "cell_type": "markdown",
      "metadata": {
        "id": "ltsz9i4z28Un",
        "colab_type": "text"
      },
      "source": [
        "### Get public address"
      ]
    },
    {
      "cell_type": "code",
      "metadata": {
        "id": "UVtUigiK28Un",
        "colab_type": "code",
        "colab": {}
      },
      "source": [
        "# Get Public Address\n",
        "print(\"Run command : ssh root@\", end='')\n",
        "!curl -s http://localhost:4040/api/tunnels | python3 -c \\\n",
        "    \"import sys, json; print(json.load(sys.stdin)['tunnels'][0]['public_url'][6:].replace(':', ' -p '))\"\n",
        "\n",
        "# Print Password\n",
        "print(\"Password : \", password)"
      ],
      "execution_count": null,
      "outputs": []
    }
  ]
}
